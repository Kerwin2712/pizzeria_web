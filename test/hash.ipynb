{
 "cells": [
  {
   "cell_type": "markdown",
   "id": "26aabee1",
   "metadata": {},
   "source": [
    "# Este notebook demuestra cómo hashear y verificar contraseñas usando bcrypt."
   ]
  },
  {
   "cell_type": "code",
   "execution_count": 2,
   "id": "970cd520",
   "metadata": {},
   "outputs": [],
   "source": [
    "# Asegúrate de tener bcrypt instalado:\n",
    "# pip install bcrypt"
   ]
  },
  {
   "cell_type": "code",
   "execution_count": 1,
   "id": "8a8990c6",
   "metadata": {},
   "outputs": [],
   "source": [
    "import bcrypt"
   ]
  },
  {
   "cell_type": "markdown",
   "id": "029d7f80",
   "metadata": {},
   "source": [
    "# --- Parte 1: Hashear una contraseña ---"
   ]
  },
  {
   "cell_type": "code",
   "execution_count": 3,
   "id": "bd32cd30",
   "metadata": {},
   "outputs": [],
   "source": [
    "# 1. Define la contraseña en texto plano\n",
    "# ¡Importante! Nunca almacenes contraseñas en texto plano en tu código de producción o en logs.\n",
    "password_plano = input(\"Introduce la contraseña en texto plano: \")"
   ]
  },
  {
   "cell_type": "code",
   "execution_count": 4,
   "id": "4c5c48f1",
   "metadata": {},
   "outputs": [
    {
     "name": "stdout",
     "output_type": "stream",
     "text": [
      "\n",
      "Salt generado: $2b$12$AWlxuyjdYM9XVgCY1mdMw.\n",
      "Contraseña hasheada (para almacenar en DB): $2b$12$AWlxuyjdYM9XVgCY1mdMw.Qu5YJNMpt.SbdZMVev6VWAwQgWdBApq\n"
     ]
    }
   ],
   "source": [
    "# 2. Genera un \"salt\" y hashea la contraseña\n",
    "# bcrypt.gensalt() genera un salt aleatorio.\n",
    "# El salt es crucial para la seguridad, ya que asegura que dos contraseñas idénticas\n",
    "# produzcan hashes diferentes.\n",
    "try:\n",
    "    salt = bcrypt.gensalt()\n",
    "    hashed_password = bcrypt.hashpw(password_plano.encode('utf-8'), salt)\n",
    "\n",
    "    # El resultado de hashpw es bytes, lo decodificamos a string para almacenarlo\n",
    "    # en la base de datos o usarlo en la aplicación.\n",
    "    hashed_password_str = hashed_password.decode('utf-8')\n",
    "\n",
    "    print(f\"\\nSalt generado: {salt.decode('utf-8')}\")\n",
    "    print(f\"Contraseña hasheada (para almacenar en DB): {hashed_password_str}\")\n",
    "\n",
    "except Exception as e:\n",
    "    print(f\"Error al hashear la contraseña: {e}\")"
   ]
  },
  {
   "cell_type": "markdown",
   "id": "2edfa642",
   "metadata": {},
   "source": [
    "# --- Parte 2: Verificar una contraseña ---"
   ]
  },
  {
   "cell_type": "code",
   "execution_count": null,
   "id": "81c7122a",
   "metadata": {},
   "outputs": [
    {
     "name": "stdout",
     "output_type": "stream",
     "text": [
      "\n",
      "Contraseña intentada: 1234\n",
      "Hash almacenado: $2b$12$AWlxuyjdYM9XVgCY1mdMw.Qu5YJNMpt.SbdZMVev6VWAwQgWdBApq\n",
      "\n",
      "Verificación Fallida. La contraseña NO coincide.\n"
     ]
    }
   ],
   "source": [
    "# 3. Simula la verificación:\n",
    "# Cuando un usuario intenta iniciar sesión, comparamos la contraseña\n",
    "# ingresada con el hash almacenado.\n",
    "\n",
    "# Contraseña ingresada por el usuario (en texto plano)\n",
    "password_intentada = input(\"\\nIntroduce la contraseña para verificar: \")\n",
    "\n",
    "# Hash almacenado en la base de datos (el que obtuvimos en la Parte 1)\n",
    "# Para este ejemplo, usamos el hash generado justo antes.\n",
    "stored_hashed_password = hashed_password_str\n",
    "\n",
    "print(f\"Hash almacenado: {stored_hashed_password}\")\n",
    "\n",
    "try:\n",
    "    # bcrypt.checkpw toma la contraseña en texto plano y el hash almacenado,\n",
    "    # y compara si coinciden. Internamente, extrae el salt del hash\n",
    "    # y lo usa para hashear la contraseña intentada para la comparación.\n",
    "    if bcrypt.checkpw(password_intentada.encode('utf-8'), stored_hashed_password.encode('utf-8')):\n",
    "        print(\"\\n¡Verificación Exitosa! La contraseña coincide.\")\n",
    "    else:\n",
    "        print(\"\\nVerificación Fallida. La contraseña NO coincide.\")\n",
    "\n",
    "except ValueError as e:\n",
    "    print(f\"\\nError de verificación: El hash almacenado parece ser inválido. {e}\")\n",
    "except Exception as e:\n",
    "    print(f\"\\nError inesperado durante la verificación: {e}\")"
   ]
  }
 ],
 "metadata": {
  "kernelspec": {
   "display_name": "venv",
   "language": "python",
   "name": "python3"
  },
  "language_info": {
   "codemirror_mode": {
    "name": "ipython",
    "version": 3
   },
   "file_extension": ".py",
   "mimetype": "text/x-python",
   "name": "python",
   "nbconvert_exporter": "python",
   "pygments_lexer": "ipython3",
   "version": "3.13.3"
  }
 },
 "nbformat": 4,
 "nbformat_minor": 5
}
